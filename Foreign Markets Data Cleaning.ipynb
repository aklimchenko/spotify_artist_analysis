{
 "cells": [
  {
   "cell_type": "markdown",
   "metadata": {},
   "source": [
    "Import Libraries that will likely be used"
   ]
  },
  {
   "cell_type": "code",
   "execution_count": 1,
   "metadata": {},
   "outputs": [],
   "source": [
    "import pandas as pd\n",
    "import numpy as np\n",
    "import spotipy as sp\n",
    "import os\n",
    "\n",
    "import matplotlib.pyplot as plt\n",
    "import seaborn as sb\n",
    "\n",
    "%matplotlib inline"
   ]
  },
  {
   "cell_type": "markdown",
   "metadata": {},
   "source": [
    "Take a look at first file to see what cleaning needs to be done"
   ]
  },
  {
   "cell_type": "code",
   "execution_count": 2,
   "metadata": {},
   "outputs": [
    {
     "data": {
      "text/html": [
       "<div>\n",
       "<style scoped>\n",
       "    .dataframe tbody tr th:only-of-type {\n",
       "        vertical-align: middle;\n",
       "    }\n",
       "\n",
       "    .dataframe tbody tr th {\n",
       "        vertical-align: top;\n",
       "    }\n",
       "\n",
       "    .dataframe thead th {\n",
       "        text-align: right;\n",
       "    }\n",
       "</style>\n",
       "<table border=\"1\" class=\"dataframe\">\n",
       "  <thead>\n",
       "    <tr style=\"text-align: right;\">\n",
       "      <th></th>\n",
       "      <th>id</th>\n",
       "      <th>followers</th>\n",
       "      <th>genres</th>\n",
       "      <th>name</th>\n",
       "      <th>popularity</th>\n",
       "      <th>year</th>\n",
       "    </tr>\n",
       "  </thead>\n",
       "  <tbody>\n",
       "    <tr>\n",
       "      <th>0</th>\n",
       "      <td>1nIUhcKHnK6iyumRyoV68C</td>\n",
       "      <td>765940</td>\n",
       "      <td>['classic soundtrack', 'italian soundtrack', '...</td>\n",
       "      <td>Ennio Morricone</td>\n",
       "      <td>70</td>\n",
       "      <td>1922</td>\n",
       "    </tr>\n",
       "    <tr>\n",
       "      <th>1</th>\n",
       "      <td>2aAHdB5HweT3mFcRzm0swc</td>\n",
       "      <td>369680</td>\n",
       "      <td>['adult standards', 'big band', 'easy listenin...</td>\n",
       "      <td>Glenn Miller</td>\n",
       "      <td>60</td>\n",
       "      <td>1922</td>\n",
       "    </tr>\n",
       "    <tr>\n",
       "      <th>2</th>\n",
       "      <td>5MpELOfAiq7aIBTij30phD</td>\n",
       "      <td>58395</td>\n",
       "      <td>['adult standards', 'big band', 'jazz trumpet'...</td>\n",
       "      <td>Harry James</td>\n",
       "      <td>58</td>\n",
       "      <td>1922</td>\n",
       "    </tr>\n",
       "    <tr>\n",
       "      <th>3</th>\n",
       "      <td>5o8E07TcYqIefZpDejymAd</td>\n",
       "      <td>14205</td>\n",
       "      <td>['big band', 'swing', 'vocal harmony group']</td>\n",
       "      <td>The Pied Pipers</td>\n",
       "      <td>51</td>\n",
       "      <td>1922</td>\n",
       "    </tr>\n",
       "    <tr>\n",
       "      <th>4</th>\n",
       "      <td>0DYWCXTkNqGFZIf67SrWEa</td>\n",
       "      <td>95006</td>\n",
       "      <td>['adult standards', 'dixieland', 'harlem renai...</td>\n",
       "      <td>Fats Waller</td>\n",
       "      <td>49</td>\n",
       "      <td>1922</td>\n",
       "    </tr>\n",
       "  </tbody>\n",
       "</table>\n",
       "</div>"
      ],
      "text/plain": [
       "                       id  followers  \\\n",
       "0  1nIUhcKHnK6iyumRyoV68C     765940   \n",
       "1  2aAHdB5HweT3mFcRzm0swc     369680   \n",
       "2  5MpELOfAiq7aIBTij30phD      58395   \n",
       "3  5o8E07TcYqIefZpDejymAd      14205   \n",
       "4  0DYWCXTkNqGFZIf67SrWEa      95006   \n",
       "\n",
       "                                              genres             name  \\\n",
       "0  ['classic soundtrack', 'italian soundtrack', '...  Ennio Morricone   \n",
       "1  ['adult standards', 'big band', 'easy listenin...     Glenn Miller   \n",
       "2  ['adult standards', 'big band', 'jazz trumpet'...      Harry James   \n",
       "3       ['big band', 'swing', 'vocal harmony group']  The Pied Pipers   \n",
       "4  ['adult standards', 'dixieland', 'harlem renai...      Fats Waller   \n",
       "\n",
       "   popularity  year  \n",
       "0          70  1922  \n",
       "1          60  1922  \n",
       "2          58  1922  \n",
       "3          51  1922  \n",
       "4          49  1922  "
      ]
     },
     "execution_count": 2,
     "metadata": {},
     "output_type": "execute_result"
    }
   ],
   "source": [
    "pd_BI = pd.read_csv('../spotify_artist_data/BI.csv')\n",
    "pd_BI.head()"
   ]
  },
  {
   "cell_type": "markdown",
   "metadata": {},
   "source": [
    "Let's check whether there are duplicates.\n",
    "<br>\n",
    "Popularity feature is the important one in later analysis, so let's sort on that"
   ]
  },
  {
   "cell_type": "code",
   "execution_count": 3,
   "metadata": {},
   "outputs": [
    {
     "data": {
      "text/html": [
       "<div>\n",
       "<style scoped>\n",
       "    .dataframe tbody tr th:only-of-type {\n",
       "        vertical-align: middle;\n",
       "    }\n",
       "\n",
       "    .dataframe tbody tr th {\n",
       "        vertical-align: top;\n",
       "    }\n",
       "\n",
       "    .dataframe thead th {\n",
       "        text-align: right;\n",
       "    }\n",
       "</style>\n",
       "<table border=\"1\" class=\"dataframe\">\n",
       "  <thead>\n",
       "    <tr style=\"text-align: right;\">\n",
       "      <th></th>\n",
       "      <th>id</th>\n",
       "      <th>followers</th>\n",
       "      <th>genres</th>\n",
       "      <th>name</th>\n",
       "      <th>popularity</th>\n",
       "      <th>year</th>\n",
       "    </tr>\n",
       "  </thead>\n",
       "  <tbody>\n",
       "    <tr>\n",
       "      <th>73127</th>\n",
       "      <td>1uNFoZAHBGtllmzznpCI3s</td>\n",
       "      <td>44573007</td>\n",
       "      <td>['canadian pop', 'pop', 'post-teen pop']</td>\n",
       "      <td>Justin Bieber</td>\n",
       "      <td>100</td>\n",
       "      <td>2011</td>\n",
       "    </tr>\n",
       "    <tr>\n",
       "      <th>72127</th>\n",
       "      <td>1uNFoZAHBGtllmzznpCI3s</td>\n",
       "      <td>44573007</td>\n",
       "      <td>['canadian pop', 'pop', 'post-teen pop']</td>\n",
       "      <td>Justin Bieber</td>\n",
       "      <td>100</td>\n",
       "      <td>2010</td>\n",
       "    </tr>\n",
       "    <tr>\n",
       "      <th>74127</th>\n",
       "      <td>1uNFoZAHBGtllmzznpCI3s</td>\n",
       "      <td>44573007</td>\n",
       "      <td>['canadian pop', 'pop', 'post-teen pop']</td>\n",
       "      <td>Justin Bieber</td>\n",
       "      <td>100</td>\n",
       "      <td>2012</td>\n",
       "    </tr>\n",
       "    <tr>\n",
       "      <th>75127</th>\n",
       "      <td>1uNFoZAHBGtllmzznpCI3s</td>\n",
       "      <td>44573007</td>\n",
       "      <td>['canadian pop', 'pop', 'post-teen pop']</td>\n",
       "      <td>Justin Bieber</td>\n",
       "      <td>100</td>\n",
       "      <td>2013</td>\n",
       "    </tr>\n",
       "    <tr>\n",
       "      <th>77127</th>\n",
       "      <td>1uNFoZAHBGtllmzznpCI3s</td>\n",
       "      <td>44573007</td>\n",
       "      <td>['canadian pop', 'pop', 'post-teen pop']</td>\n",
       "      <td>Justin Bieber</td>\n",
       "      <td>100</td>\n",
       "      <td>2015</td>\n",
       "    </tr>\n",
       "  </tbody>\n",
       "</table>\n",
       "</div>"
      ],
      "text/plain": [
       "                           id  followers  \\\n",
       "73127  1uNFoZAHBGtllmzznpCI3s   44573007   \n",
       "72127  1uNFoZAHBGtllmzznpCI3s   44573007   \n",
       "74127  1uNFoZAHBGtllmzznpCI3s   44573007   \n",
       "75127  1uNFoZAHBGtllmzznpCI3s   44573007   \n",
       "77127  1uNFoZAHBGtllmzznpCI3s   44573007   \n",
       "\n",
       "                                         genres           name  popularity  \\\n",
       "73127  ['canadian pop', 'pop', 'post-teen pop']  Justin Bieber         100   \n",
       "72127  ['canadian pop', 'pop', 'post-teen pop']  Justin Bieber         100   \n",
       "74127  ['canadian pop', 'pop', 'post-teen pop']  Justin Bieber         100   \n",
       "75127  ['canadian pop', 'pop', 'post-teen pop']  Justin Bieber         100   \n",
       "77127  ['canadian pop', 'pop', 'post-teen pop']  Justin Bieber         100   \n",
       "\n",
       "       year  \n",
       "73127  2011  \n",
       "72127  2010  \n",
       "74127  2012  \n",
       "75127  2013  \n",
       "77127  2015  "
      ]
     },
     "execution_count": 3,
     "metadata": {},
     "output_type": "execute_result"
    }
   ],
   "source": [
    "# Let's check for duplicates by sorting\n",
    "pd_BI = pd_BI.sort_values('popularity', ascending=False)\n",
    "pd_BI.head()"
   ]
  },
  {
   "cell_type": "markdown",
   "metadata": {},
   "source": [
    "The 'year' column can be dropped so that we get true duplicates of entries\n",
    "<br>All of the features are the same, as they are based on the id feature"
   ]
  },
  {
   "cell_type": "code",
   "execution_count": 4,
   "metadata": {},
   "outputs": [
    {
     "data": {
      "text/html": [
       "<div>\n",
       "<style scoped>\n",
       "    .dataframe tbody tr th:only-of-type {\n",
       "        vertical-align: middle;\n",
       "    }\n",
       "\n",
       "    .dataframe tbody tr th {\n",
       "        vertical-align: top;\n",
       "    }\n",
       "\n",
       "    .dataframe thead th {\n",
       "        text-align: right;\n",
       "    }\n",
       "</style>\n",
       "<table border=\"1\" class=\"dataframe\">\n",
       "  <thead>\n",
       "    <tr style=\"text-align: right;\">\n",
       "      <th></th>\n",
       "      <th>id</th>\n",
       "      <th>followers</th>\n",
       "      <th>genres</th>\n",
       "      <th>name</th>\n",
       "      <th>popularity</th>\n",
       "    </tr>\n",
       "  </thead>\n",
       "  <tbody>\n",
       "    <tr>\n",
       "      <th>73127</th>\n",
       "      <td>1uNFoZAHBGtllmzznpCI3s</td>\n",
       "      <td>44573007</td>\n",
       "      <td>['canadian pop', 'pop', 'post-teen pop']</td>\n",
       "      <td>Justin Bieber</td>\n",
       "      <td>100</td>\n",
       "    </tr>\n",
       "    <tr>\n",
       "      <th>69127</th>\n",
       "      <td>06HL4z0CvFAxyc27GXpf02</td>\n",
       "      <td>38839504</td>\n",
       "      <td>['pop', 'post-teen pop']</td>\n",
       "      <td>Taylor Swift</td>\n",
       "      <td>98</td>\n",
       "    </tr>\n",
       "    <tr>\n",
       "      <th>75131</th>\n",
       "      <td>3Nrfpe0tUJi4K4DXYWgMUX</td>\n",
       "      <td>31593169</td>\n",
       "      <td>['k-pop', 'k-pop boy group']</td>\n",
       "      <td>BTS</td>\n",
       "      <td>96</td>\n",
       "    </tr>\n",
       "    <tr>\n",
       "      <th>75129</th>\n",
       "      <td>1Xyo4u8uXC1ZmMpatF05PJ</td>\n",
       "      <td>31280933</td>\n",
       "      <td>['canadian contemporary r&amp;b', 'canadian pop', ...</td>\n",
       "      <td>The Weeknd</td>\n",
       "      <td>96</td>\n",
       "    </tr>\n",
       "    <tr>\n",
       "      <th>75132</th>\n",
       "      <td>66CXWjxzNUsdJxJ2JdwvnR</td>\n",
       "      <td>61248736</td>\n",
       "      <td>['pop', 'post-teen pop']</td>\n",
       "      <td>Ariana Grande</td>\n",
       "      <td>95</td>\n",
       "    </tr>\n",
       "  </tbody>\n",
       "</table>\n",
       "</div>"
      ],
      "text/plain": [
       "                           id  followers  \\\n",
       "73127  1uNFoZAHBGtllmzznpCI3s   44573007   \n",
       "69127  06HL4z0CvFAxyc27GXpf02   38839504   \n",
       "75131  3Nrfpe0tUJi4K4DXYWgMUX   31593169   \n",
       "75129  1Xyo4u8uXC1ZmMpatF05PJ   31280933   \n",
       "75132  66CXWjxzNUsdJxJ2JdwvnR   61248736   \n",
       "\n",
       "                                                  genres           name  \\\n",
       "73127           ['canadian pop', 'pop', 'post-teen pop']  Justin Bieber   \n",
       "69127                           ['pop', 'post-teen pop']   Taylor Swift   \n",
       "75131                       ['k-pop', 'k-pop boy group']            BTS   \n",
       "75129  ['canadian contemporary r&b', 'canadian pop', ...     The Weeknd   \n",
       "75132                           ['pop', 'post-teen pop']  Ariana Grande   \n",
       "\n",
       "       popularity  \n",
       "73127         100  \n",
       "69127          98  \n",
       "75131          96  \n",
       "75129          96  \n",
       "75132          95  "
      ]
     },
     "execution_count": 4,
     "metadata": {},
     "output_type": "execute_result"
    }
   ],
   "source": [
    "pd_BI.drop(columns=['year'], inplace=True)\n",
    "pd_BI.drop_duplicates(subset= \"name\", keep= 'first', inplace= True)\n",
    "\n",
    "pd_BI.head()"
   ]
  },
  {
   "cell_type": "markdown",
   "metadata": {},
   "source": [
    "Let's take a look at the distribution of artists at each popularity\n",
    "<br>That way, we can decide if we should leave any out"
   ]
  },
  {
   "cell_type": "code",
   "execution_count": 5,
   "metadata": {},
   "outputs": [
    {
     "name": "stdout",
     "output_type": "stream",
     "text": [
      "We have 100495 unique artists\n",
      "There are 100495 artists with popularity above 0\n",
      "There are 59830 artists with popularity above 10\n",
      "There are 53465 artists with popularity above 20\n",
      "There are 47190 artists with popularity above 30\n",
      "There are 39070 artists with popularity above 40\n",
      "There are 29690 artists with popularity above 50\n",
      "There are 19490 artists with popularity above 60\n",
      "There are 6805 artists with popularity above 70\n",
      "There are 1395 artists with popularity above 80\n",
      "There are 130 artists with popularity above 90\n"
     ]
    }
   ],
   "source": [
    "print(f\"We have {pd_BI.size} unique artists\")\n",
    "\n",
    "for n in range(0, 100, 10):\n",
    "    tmp = pd_BI[pd_BI['popularity']>=n].size\n",
    "    print(f\"There are {tmp} artists with popularity above {n}\")"
   ]
  },
  {
   "cell_type": "markdown",
   "metadata": {},
   "source": [
    "Looks like about half of the artists have a popularity within {0, 9]\n",
    "<br> Let's visualize with a histogram so we can take a look from another perspective"
   ]
  },
  {
   "cell_type": "code",
   "execution_count": 6,
   "metadata": {},
   "outputs": [
    {
     "data": {
      "image/png": "[encoded data removed]",
      "text/plain": [
       "<Figure size 1008x576 with 1 Axes>"
      ]
     },
     "metadata": {
      "needs_background": "light"
     },
     "output_type": "display_data"
    }
   ],
   "source": [
    "# Create a simple histogram\n",
    "binsize = 1\n",
    "bins = np.arange(0, pd_BI['popularity'].max()+binsize, binsize)\n",
    "plt.figure(figsize=[14, 8])\n",
    "\n",
    "plt.hist(data = pd_BI, x = 'popularity', bins = bins)\n",
    "plt.title('Distribution of Artists by Popularity in the BI Market')\n",
    "plt.xlabel('Popularity (range of 0 to 100)')\n",
    "plt.ylabel('Number of artists')\n",
    "plt.show()"
   ]
  },
  {
   "cell_type": "markdown",
   "metadata": {},
   "source": [
    "Looks like about half the artists have popularity = 0\n",
    "<br>We will keep this in mind, but will not filter them out here.\n",
    "<br>We may want to use this information in future analyses.\n",
    "<br>\n",
    "<br>For now, we will create clean sets of data for each market.\n",
    "<br>First, we will get all the filenames and market data as dataframes"
   ]
  },
  {
   "cell_type": "code",
   "execution_count": 7,
   "metadata": {},
   "outputs": [],
   "source": [
    "# Walk through all files, storing file names\n",
    "path, dirs, files = next(os.walk(\"../spotify_artist_data/\"))\n",
    "\n",
    "# List for holding all the market names\n",
    "artist_market = []\n",
    "\n",
    "# List for holding each file's data (as a dataframe)\n",
    "artist_df_list = []\n",
    "\n",
    "# for each file, remove duplicates \n",
    "#   and store the cleaned dataframe in a list\n",
    "# DFs will be saved to new files, but in a different loop\n",
    "#   so that the data can be further examined and cleaned\n",
    "#   if necessary\n",
    "for f in range(len(files)):\n",
    "    temp_df = pd.read_csv(\"../spotify_artist_data/\"+files[f],\n",
    "                      index_col = None, header = 0)\n",
    "    \n",
    "#   drop the year column so that duplicates can be dropped\n",
    "    temp_df.drop(columns=['year'], inplace=True)\n",
    "    temp_df.drop_duplicates(subset= \"name\", keep= 'first', inplace=True)\n",
    "\n",
    "#   add this df to the list\n",
    "    artist_df_list.append(temp_df)\n",
    "\n",
    "#   get the market name from the filename\n",
    "    tmp_market = str(files[f])\n",
    "#   store the market name\n",
    "    artist_market.append(tmp_market)"
   ]
  },
  {
   "cell_type": "markdown",
   "metadata": {},
   "source": [
    "Next, we store each dataframe as a .csv file in a new directory"
   ]
  },
  {
   "cell_type": "code",
   "execution_count": 8,
   "metadata": {},
   "outputs": [],
   "source": [
    "'''\n",
    "# Sanity Check\n",
    "if(len(artist_df_list) == len(artist_market)):\n",
    "    print(\"List lengths match\")\n",
    "else:\n",
    "    print(\"List lengths do not match\")\n",
    "'''\n",
    "\n",
    "# Store the cleaned data in a new file\n",
    "#   Using the market name as the filename\n",
    "for df in range(len(artist_df_list)):\n",
    "    artist_df_list[df].to_csv(\"../artist_market_data/\" + str(artist_market[df]), index=False)\n",
    "#   for debugging\n",
    "#    print(f\"Wrote a df of size {artist_df_list[df].size} to file {artist_market[df]}\")"
   ]
  },
  {
   "cell_type": "code",
   "execution_count": null,
   "metadata": {},
   "outputs": [],
   "source": []
  }
 ],
 "metadata": {
  "kernelspec": {
   "display_name": "Python 3",
   "language": "python",
   "name": "python3"
  },
  "language_info": {
   "codemirror_mode": {
    "name": "ipython",
    "version": 3
   },
   "file_extension": ".py",
   "mimetype": "text/x-python",
   "name": "python",
   "nbconvert_exporter": "python",
   "pygments_lexer": "ipython3",
   "version": "3.7.3"
  }
 },
 "nbformat": 4,
 "nbformat_minor": 2
}
