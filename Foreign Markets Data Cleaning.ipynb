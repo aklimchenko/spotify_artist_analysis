{
 "cells": [
  {
   "cell_type": "markdown",
   "metadata": {},
   "source": [
    "Import Libraries that will likely be used"
   ]
  },
  {
   "cell_type": "code",
   "execution_count": null,
   "metadata": {},
   "outputs": [],
   "source": [
    "import pandas as pd\n",
    "import numpy as np\n",
    "import spotipy as sp\n",
    "import os\n",
    "\n",
    "import matplotlib.pyplot as plt\n",
    "import seaborn as sb\n",
    "\n",
    "%matplotlib inline"
   ]
  },
  {
   "cell_type": "markdown",
   "metadata": {},
   "source": [
    "Take a look at first file to see what cleaning needs to be done"
   ]
  },
  {
   "cell_type": "code",
   "execution_count": null,
   "metadata": {},
   "outputs": [],
   "source": [
    "pd_BI = pd.read_csv('../spotify_artist_data/BI.csv')\n",
    "pd_BI.head()"
   ]
  },
  {
   "cell_type": "markdown",
   "metadata": {},
   "source": [
    "Let's check whether there are duplicates.\n",
    "<br>\n",
    "Popularity feature is the important one in later analysis, so let's sort on that"
   ]
  },
  {
   "cell_type": "code",
   "execution_count": null,
   "metadata": {},
   "outputs": [],
   "source": [
    "# Let's check for duplicates by sorting\n",
    "pd_BI = pd_BI.sort_values('popularity', ascending=False)\n",
    "pd_BI.head()"
   ]
  },
  {
   "cell_type": "markdown",
   "metadata": {},
   "source": [
    "The 'year' column can be dropped so that we get true duplicates of entries\n",
    "<br>All of the features are the same, as they are based on the id feature"
   ]
  },
  {
   "cell_type": "code",
   "execution_count": null,
   "metadata": {},
   "outputs": [],
   "source": [
    "pd_BI.drop(columns=['year'], inplace=True)\n",
    "pd_BI.drop_duplicates(subset= \"name\", keep= 'first', inplace= True)\n",
    "\n",
    "pd_BI.head()"
   ]
  },
  {
   "cell_type": "markdown",
   "metadata": {},
   "source": [
    "Let's take a look at the distribution of artists at each popularity\n",
    "<br>That way, we can decide if we should leave any out"
   ]
  },
  {
   "cell_type": "code",
   "execution_count": null,
   "metadata": {},
   "outputs": [],
   "source": [
    "print(f\"We have {pd_BI.size} unique artists\")\n",
    "\n",
    "for n in range(0, 100, 10):\n",
    "    tmp = pd_BI[pd_BI['popularity']>=n].size\n",
    "    print(f\"There are {tmp} artists with popularity above {n}\")"
   ]
  },
  {
   "cell_type": "markdown",
   "metadata": {},
   "source": [
    "Looks like about half of the artists have a popularity within {0, 9]\n",
    "<br> Let's visualize with a histogram so we can take a look from another perspective"
   ]
  },
  {
   "cell_type": "code",
   "execution_count": null,
   "metadata": {},
   "outputs": [],
   "source": [
    "# Create a simple histogram\n",
    "binsize = 1\n",
    "bins = np.arange(0, pd_BI['popularity'].max()+binsize, binsize)\n",
    "plt.figure(figsize=[14, 8])\n",
    "\n",
    "plt.hist(data = pd_BI, x = 'popularity', bins = bins)\n",
    "plt.title('Distribution of Artists by Popularity in the BI Market')\n",
    "plt.xlabel('Popularity (range of 0 to 100)')\n",
    "plt.ylabel('Number of artists')\n",
    "plt.show()"
   ]
  },
  {
   "cell_type": "markdown",
   "metadata": {},
   "source": [
    "Looks like about half the artists have popularity = 0\n",
    "<br>We will keep this in mind, but will not filter them out here.\n",
    "<br>We may want to use this information in future analyses.\n",
    "<br>\n",
    "<br>For now, we will create clean sets of data for each market.\n",
    "<br>First, we will get all the filenames and market data as dataframes"
   ]
  },
  {
   "cell_type": "code",
   "execution_count": null,
   "metadata": {},
   "outputs": [],
   "source": [
    "# Walk through all files, storing file names\n",
    "path, dirs, files = next(os.walk(\"../spotify_artist_data/\"))\n",
    "\n",
    "# List for holding all the market names\n",
    "artist_market = []\n",
    "\n",
    "# List for holding each file's data (as a dataframe)\n",
    "artist_df_list = []\n",
    "\n",
    "# for each file, remove duplicates \n",
    "#   and store the cleaned dataframe in a list\n",
    "# DFs will be saved to new files, but in a different loop\n",
    "#   so that the data can be further examined and cleaned\n",
    "#   if necessary\n",
    "for f in range(len(files)):\n",
    "    temp_df = pd.read_csv(\"../spotify_artist_data/\"+files[f],\n",
    "                      index_col = None, header = 0)\n",
    "    \n",
    "#   drop the year column so that duplicates can be dropped\n",
    "    temp_df.drop(columns=['year'], inplace=True)\n",
    "    temp_df.drop_duplicates(subset= \"name\", keep= 'first', inplace=True)\n",
    "\n",
    "#   add this df to the list\n",
    "    artist_df_list.append(temp_df)\n",
    "\n",
    "#   get the market name from the filename\n",
    "    tmp_market = str(files[f])\n",
    "#   store the market name\n",
    "    artist_market.append(tmp_market)"
   ]
  },
  {
   "cell_type": "markdown",
   "metadata": {},
   "source": [
    "Next, we store each dataframe as a .csv file in a new directory"
   ]
  },
  {
   "cell_type": "code",
   "execution_count": null,
   "metadata": {},
   "outputs": [],
   "source": [
    "'''\n",
    "# Sanity Check\n",
    "if(len(artist_df_list) == len(artist_market)):\n",
    "    print(\"List lengths match\")\n",
    "else:\n",
    "    print(\"List lengths do not match\")\n",
    "'''\n",
    "\n",
    "# Store the cleaned data in a new file\n",
    "#   Using the market name as the filename\n",
    "for df in range(len(artist_df_list)):\n",
    "    artist_df_list[df].to_csv(\"../artist_market_data/\" + str(artist_market[df]), index=False)\n",
    "#   for debugging\n",
    "#    print(f\"Wrote a df of size {artist_df_list[df].size} to file {artist_market[df]}\")"
   ]
  }
 ],
 "metadata": {
  "kernelspec": {
   "display_name": "Python 3",
   "language": "python",
   "name": "python3"
  },
  "language_info": {
   "codemirror_mode": {
    "name": "ipython",
    "version": 3
   },
   "file_extension": ".py",
   "mimetype": "text/x-python",
   "name": "python",
   "nbconvert_exporter": "python",
   "pygments_lexer": "ipython3",
   "version": "3.7.3"
  }
 },
 "nbformat": 4,
 "nbformat_minor": 2
}
